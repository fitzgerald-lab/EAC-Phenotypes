{
 "cells": [
  {
   "cell_type": "markdown",
   "id": "56e0ab6d",
   "metadata": {},
   "source": [
    "### Filter the results of GISTIC2 by CNA driver genes identified by COSMIC census and NG paper https://doi.org/10.1038/s41588-018-0331-5\n"
   ]
  },
  {
   "cell_type": "code",
   "execution_count": 3,
   "id": "53cf955d",
   "metadata": {},
   "outputs": [
    {
     "name": "stdout",
     "output_type": "stream",
     "text": [
      "Number of known driver genes: 97\n",
      "Number of CNA driver genes identified by NG paper: 25\n"
     ]
    }
   ],
   "source": [
    "import os\n",
    "import pandas as pd\n",
    "\n",
    "# Read known driver genes from a CSV file\n",
    "known_driver_genes = pd.read_csv(\"/Users/wu04/Library/CloudStorage/OneDrive-UniversityofCambridge/projects/BO_gene_list/data/GISTIC/Census_allMon May 13 18_04_11 2024.csv\")\n",
    "\n",
    "# Filter known driver genes based on mutation types -- only keep CNA driver genes\n",
    "known_driver_genes = known_driver_genes[known_driver_genes['Mutation Types'].str.contains('A|D', na=False)]\n",
    "\n",
    "# Extract the gene symbols from the filtered known driver genes\n",
    "known_driver_genes = known_driver_genes[\"Gene Symbol\"].to_list()\n",
    "\n",
    "# Print the number of known driver genes\n",
    "print(\"Number of known driver genes:\", len(known_driver_genes))\n",
    "\n",
    "# Define CNA driver genes identified by Alex\n",
    "CNA_driver_genes_NG_paper = ['KRAS', 'GATA4', 'ERBB2', 'ERBB2', 'ERBB2', 'CCND3', 'CCND1', 'CCND1', 'CCNE1', 'MET', 'EGFR', 'MET', 'CDK6','CDK6','MDM2','GATA6','PPM1D','MYC','CDKN2A','ARID1A','APC','PTEN','SMAD4','AXIN1','CDH11']\n",
    "\n",
    "# Print the number of CNA driver genes identified by Alex\n",
    "print(\"Number of CNA driver genes identified by NG paper:\", len(CNA_driver_genes_NG_paper))\n"
   ]
  },
  {
   "cell_type": "code",
   "execution_count": 7,
   "id": "24e7517d",
   "metadata": {},
   "outputs": [
    {
     "name": "stdout",
     "output_type": "stream",
     "text": [
      "Combined driver genes without duplicates: ['ACVR1B', 'AKT2', 'AKT3', 'ALK', 'AMER1', 'APC', 'APOBEC3B', 'ARHGEF10', 'ARHGEF10L', 'ARID1A', 'ASPM', 'ATM', 'AXIN1', 'BAZ1A', 'BIRC3', 'BRCA1', 'BRCA2', 'CASP3', 'CASP9', 'CCNC', 'CCNE1', 'CDKN2A', 'CDKN2C', 'CPEB3', 'CTNNA1', 'DCC', 'DROSHA', 'EGFR', 'ERBB2', 'ERG', 'FADD', 'FANCA', 'FANCC', 'FANCD2', 'FBXO11', 'FBXW7', 'FLT4', 'GOLPH3', 'GPC3', 'GPC5', 'GRM3', 'HGF', 'IGF2BP2', 'IKZF1', 'IKZF3', 'JUN', 'KAT6A', 'KDM6A', 'LARP4B', 'LATS2', 'LEPROTL1', 'LMO1', 'LRP1B', 'MAP2K4', 'MDM2', 'MDM4', 'MEN1', 'MGMT', 'MITF', 'MLH1', 'MSH2', 'MYC', 'MYCL', 'MYCN', 'N4BP2', 'NF1', 'NF2', 'NKX2-1', 'NSD3', 'NTRK1', 'PAX5', 'PBRM1', 'PPM1D', 'PRDM1', 'PTEN', 'PTPRD', 'RAD17', 'RAD50', 'RAF1', 'RAP1B', 'RB1', 'REL', 'RFWD3', 'SETD1B', 'SMAD4', 'SMARCB1', 'SOX2', 'SOX21', 'STK11', 'SUB1', 'SUFU', 'TNFAIP3', 'TSC1', 'TSC2', 'USP44', 'VHL', 'WT1', 'KRAS', 'GATA4', 'CCND3', 'CCND1', 'MET', 'CDK6', 'GATA6', 'CDH11']\n",
      "Number of combined driver genes without duplicates: 105\n"
     ]
    }
   ],
   "source": [
    "# Combine known driver genes and CNA driver genes identified by NG paper\n",
    "combined_driver_genes = known_driver_genes + CNA_driver_genes_NG_paper\n",
    "\n",
    "# Remove duplicates from the combined list\n",
    "combined_driver_genes_ = list(dict.fromkeys(combined_driver_genes))\n",
    "\n",
    "# Print the combined driver genes without duplicates\n",
    "print(\"Combined driver genes without duplicates:\", combined_driver_genes_)\n",
    "\n",
    "# Print the number of combined driver genes without duplicates\n",
    "print(\"Number of combined driver genes without duplicates:\", len(combined_driver_genes_))\n"
   ]
  },
  {
   "cell_type": "markdown",
   "id": "a3850b5a",
   "metadata": {},
   "source": [
    "### BE_samples_205"
   ]
  },
  {
   "cell_type": "code",
   "execution_count": 8,
   "id": "8b879e48",
   "metadata": {},
   "outputs": [
    {
     "name": "stdout",
     "output_type": "stream",
     "text": [
      "The number of amp_gene_list: 1385\n",
      "The number of overlapped genes: 5\n",
      "{'CCND1', 'GATA6', 'CDK6', 'FADD', 'STK11'}\n"
     ]
    }
   ],
   "source": [
    "# Set the source path\n",
    "source_path = '/Users/wu04/Library/CloudStorage/OneDrive-UniversityofCambridge/projects/BO_gene_list/results/gistic'\n",
    "\n",
    "# Define the file path for the amp_gene_list\n",
    "amp_gene_list_path = os.path.join(source_path, \"samples_205_excludeGM/conf_75_q_25_no_ploidy_adjust_203_samples/amp_gene_list_widen.txt\")\n",
    "\n",
    "# Read the amp_gene_list from the file\n",
    "amp_gene_list = pd.read_csv(amp_gene_list_path, header=None, sep=\"\\t\")\n",
    "amp_gene_list = amp_gene_list[0].to_list()\n",
    "\n",
    "# Print the number of amp_gene_list\n",
    "print(\"The number of amp_gene_list:\", len(amp_gene_list))\n",
    "\n",
    "# Find the overlapped genes between combined_driver_genes_ and amp_gene_list\n",
    "amp_205_overlapped_genes = set(combined_driver_genes_).intersection(amp_gene_list)\n",
    "\n",
    "# Print the number of overlapped genes\n",
    "print(\"The number of overlapped genes:\", len(amp_205_overlapped_genes))\n",
    "print(amp_205_overlapped_genes)"
   ]
  },
  {
   "cell_type": "code",
   "execution_count": 9,
   "id": "c994f9c8",
   "metadata": {},
   "outputs": [
    {
     "name": "stdout",
     "output_type": "stream",
     "text": [
      "The number of del_gene_list: 542\n",
      "The number of overlapped genes: 4\n",
      "{'DCC', 'ERG', 'SMAD4', 'CDKN2A'}\n"
     ]
    }
   ],
   "source": [
    "# Set the file path for the del_gene_list\n",
    "del_gene_list_path = os.path.join(source_path, \"samples_205_excludeGM/conf_75_q_25_no_ploidy_adjust_203_samples/del_gene_list.txt\")\n",
    "\n",
    "# Read the del_gene_list from the file\n",
    "del_gene_list = pd.read_csv(del_gene_list_path, header=None, sep=\"\\t\")\n",
    "del_gene_list = del_gene_list[0].to_list()\n",
    "\n",
    "# Print the number of del_gene_list\n",
    "print(\"The number of del_gene_list:\", len(del_gene_list))\n",
    "\n",
    "# Find the overlapped genes between combined_driver_genes_ and del_gene_list\n",
    "del_205_overlapped_genes = set(combined_driver_genes_).intersection(del_gene_list)\n",
    "\n",
    "# Print the number of overlapped genes\n",
    "print(\"The number of overlapped genes:\", len(del_205_overlapped_genes))\n",
    "print(del_205_overlapped_genes)"
   ]
  },
  {
   "cell_type": "code",
   "execution_count": 10,
   "id": "fe7c2c40",
   "metadata": {},
   "outputs": [
    {
     "name": "stdout",
     "output_type": "stream",
     "text": [
      "The number of genes in the gene_list for 205 samples: 1853\n",
      "The number of overlapped genes in the gene_list for 205 samples: 9\n",
      "['CCND1', 'GATA6', 'ERG', 'CDK6', 'CDKN2A', 'FADD', 'DCC', 'STK11', 'SMAD4']\n"
     ]
    }
   ],
   "source": [
    "# Combine amp_gene_list and del_gene_list to create a gene_list for 205 samples\n",
    "gene_list_205_samples = pd.Series(amp_gene_list + del_gene_list).drop_duplicates().tolist()\n",
    "print(\"The number of genes in the gene_list for 205 samples:\", len(gene_list_205_samples))\n",
    "\n",
    "# Combine amp_205_overlapped_genes and del_205_overlapped_genes to create a list of overlapped genes for 205 samples\n",
    "overlapped_gene_list_205_samples = list(amp_205_overlapped_genes.union(del_205_overlapped_genes))\n",
    "print(\"The number of overlapped genes in the gene_list for 205 samples:\", len(overlapped_gene_list_205_samples))\n",
    "print(overlapped_gene_list_205_samples)"
   ]
  },
  {
   "cell_type": "code",
   "execution_count": 12,
   "id": "33b758a3",
   "metadata": {},
   "outputs": [
    {
     "name": "stdout",
     "output_type": "stream",
     "text": [
      "The number of filtered overlapped gene_list in 205 samples: 9\n"
     ]
    }
   ],
   "source": [
    "overlapped_gene_list_205_samples = pd.DataFrame(overlapped_gene_list_205_samples, columns = ['gene_name'])\n",
    "overlapped_gene_list_205_samples = overlapped_gene_list_205_samples[overlapped_gene_list_205_samples['gene_name'] != 'FHIT']\n",
    "print(\"The number of filtered overlapped gene_list in 205 samples:\", len(overlapped_gene_list_205_samples))\n",
    "\n",
    "\n",
    "overlapped_gene_list_205_samples.to_csv(os.path.join(source_path, \"samples_205_excludeGM/conf_95_overlapped_CNA_drive_genes.csv\"), index = False)\n",
    "# with open (os.path.join(source_path, \"samples_205_excludeGM/conf_95_overlapped_drive_genes.txt\"), 'w') as file:\n",
    "#     for item in overlapped_gene_list_205_samples:\n",
    "#         file.write(\"%s\\n\" %item)"
   ]
  },
  {
   "cell_type": "code",
   "execution_count": 13,
   "id": "fae036d1",
   "metadata": {},
   "outputs": [
    {
     "data": {
      "text/html": [
       "<div>\n",
       "<style scoped>\n",
       "    .dataframe tbody tr th:only-of-type {\n",
       "        vertical-align: middle;\n",
       "    }\n",
       "\n",
       "    .dataframe tbody tr th {\n",
       "        vertical-align: top;\n",
       "    }\n",
       "\n",
       "    .dataframe thead th {\n",
       "        text-align: right;\n",
       "    }\n",
       "</style>\n",
       "<table border=\"1\" class=\"dataframe\">\n",
       "  <thead>\n",
       "    <tr style=\"text-align: right;\">\n",
       "      <th></th>\n",
       "      <th>gene_name</th>\n",
       "    </tr>\n",
       "  </thead>\n",
       "  <tbody>\n",
       "    <tr>\n",
       "      <th>0</th>\n",
       "      <td>CCND1</td>\n",
       "    </tr>\n",
       "    <tr>\n",
       "      <th>1</th>\n",
       "      <td>GATA6</td>\n",
       "    </tr>\n",
       "    <tr>\n",
       "      <th>2</th>\n",
       "      <td>ERG</td>\n",
       "    </tr>\n",
       "    <tr>\n",
       "      <th>3</th>\n",
       "      <td>CDK6</td>\n",
       "    </tr>\n",
       "    <tr>\n",
       "      <th>4</th>\n",
       "      <td>CDKN2A</td>\n",
       "    </tr>\n",
       "    <tr>\n",
       "      <th>5</th>\n",
       "      <td>FADD</td>\n",
       "    </tr>\n",
       "    <tr>\n",
       "      <th>6</th>\n",
       "      <td>DCC</td>\n",
       "    </tr>\n",
       "    <tr>\n",
       "      <th>7</th>\n",
       "      <td>STK11</td>\n",
       "    </tr>\n",
       "    <tr>\n",
       "      <th>8</th>\n",
       "      <td>SMAD4</td>\n",
       "    </tr>\n",
       "  </tbody>\n",
       "</table>\n",
       "</div>"
      ],
      "text/plain": [
       "  gene_name\n",
       "0     CCND1\n",
       "1     GATA6\n",
       "2       ERG\n",
       "3      CDK6\n",
       "4    CDKN2A\n",
       "5      FADD\n",
       "6       DCC\n",
       "7     STK11\n",
       "8     SMAD4"
      ]
     },
     "execution_count": 13,
     "metadata": {},
     "output_type": "execute_result"
    }
   ],
   "source": [
    "overlapped_gene_list_205_samples"
   ]
  },
  {
   "cell_type": "markdown",
   "id": "9a21ca38",
   "metadata": {},
   "source": [
    "### Genomics_England data"
   ]
  },
  {
   "cell_type": "code",
   "execution_count": 15,
   "id": "bef68b3f",
   "metadata": {},
   "outputs": [
    {
     "name": "stdout",
     "output_type": "stream",
     "text": [
      "The number of gel amp genes: 400\n",
      "Overlapped genes: {'GATA6'}\n",
      "The number of overlapped genes: 1\n"
     ]
    }
   ],
   "source": [
    "gel_amp_gene_list_path = os.path.join(source_path, \"gel/conf_75_q_25_no_ploidy_adjust/amp_gene_list_widen.txt\")\n",
    "\n",
    "gel_amp_gene_list = pd.read_csv(gel_amp_gene_list_path, header=None, sep=\"\\t\")\n",
    "gel_amp_gene_list = gel_amp_gene_list[0].to_list()\n",
    "print(\"The number of gel amp genes:\", len(gel_amp_gene_list))\n",
    "\n",
    "amp_gel_overlapped_genes = set(combined_driver_genes_).intersection(gel_amp_gene_list)\n",
    "print(\"Overlapped genes:\", amp_gel_overlapped_genes)\n",
    "print(\"The number of overlapped genes:\", len(amp_gel_overlapped_genes))"
   ]
  },
  {
   "cell_type": "code",
   "execution_count": 16,
   "id": "a740714b",
   "metadata": {},
   "outputs": [
    {
     "name": "stdout",
     "output_type": "stream",
     "text": [
      "The number of gel del genes: 1366\n",
      "Overlapped genes: {'MEN1', 'CCND1', 'PTPRD', 'PAX5', 'CDKN2A', 'FANCC', 'FADD', 'TSC1'}\n",
      "The number of overlapped genes: 8\n"
     ]
    }
   ],
   "source": [
    "gene_list_path = os.path.join(source_path, \"gel/conf_75_q_25_no_ploidy_adjust/del_gene_list.txt\")\n",
    "\n",
    "gel_del_gene_list = pd.read_csv(gene_list_path, header=None, sep=\"\\t\")\n",
    "gel_del_gene_list = gel_del_gene_list[0].to_list()\n",
    "print(\"The number of gel del genes:\", len(gel_del_gene_list))\n",
    "\n",
    "del_gel_overlapped_genes = set(combined_driver_genes_).intersection(gel_del_gene_list)\n",
    "print(\"Overlapped genes:\", del_gel_overlapped_genes)\n",
    "print(\"The number of overlapped genes:\", len(del_gel_overlapped_genes))"
   ]
  },
  {
   "cell_type": "markdown",
   "id": "cb23a730",
   "metadata": {},
   "source": [
    "### In the final selection, STK11, FADD, DCC, MEN1, PAX5, TSC1, ATM, WT1, CDKN2A, CCND1, FADD, PTPRD, LMO1, FANCC, and BIRC3 were excluded due to overlapping peaks. ### ### ### ### Consequently, the final list of CNA driver genes identified includes GATA6, CCND1, CDK6, SMAD4, and ERG."
   ]
  }
 ],
 "metadata": {
  "kernelspec": {
   "display_name": "Python 3 (ipykernel)",
   "language": "python",
   "name": "python3"
  },
  "language_info": {
   "codemirror_mode": {
    "name": "ipython",
    "version": 3
   },
   "file_extension": ".py",
   "mimetype": "text/x-python",
   "name": "python",
   "nbconvert_exporter": "python",
   "pygments_lexer": "ipython3",
   "version": "3.9.13"
  }
 },
 "nbformat": 4,
 "nbformat_minor": 5
}
